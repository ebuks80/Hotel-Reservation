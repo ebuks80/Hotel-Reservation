{
 "cells": [
  {
   "cell_type": "markdown",
   "id": "b47ba0b8",
   "metadata": {},
   "source": [
    "## NEURAL NETWORKS WITH PYTHON AND COMPARISON WITH OTHER ALGORITHMS\n",
    "For this project i will be working with Hotel Reservation Dataset from Kaggle.\n",
    "A significant number of hotel reservations are called off due to cancellations or no-show. There are several reasons for concellation. it is a classification based project where i will be predicting the individuals that would honor the reservation or cancel it.\n",
    "I will follow the approach of Neural networks to find the results and compare it with other algorithms. ##\n"
   ]
  },
  {
   "cell_type": "code",
   "execution_count": 1,
   "id": "86f1edd9",
   "metadata": {},
   "outputs": [],
   "source": [
    "import numpy as np\n",
    "import pandas as pd\n",
    "import seaborn as sns\n",
    "import matplotlib.pyplot as plt\n",
    "%matplotlib inline"
   ]
  },
  {
   "cell_type": "code",
   "execution_count": 2,
   "id": "03c179ea",
   "metadata": {},
   "outputs": [],
   "source": [
    "df = pd.read_csv('Hotel Reservations.csv')"
   ]
  },
  {
   "cell_type": "code",
   "execution_count": 3,
   "id": "78b52134",
   "metadata": {},
   "outputs": [
    {
     "data": {
      "text/html": [
       "<div>\n",
       "<style scoped>\n",
       "    .dataframe tbody tr th:only-of-type {\n",
       "        vertical-align: middle;\n",
       "    }\n",
       "\n",
       "    .dataframe tbody tr th {\n",
       "        vertical-align: top;\n",
       "    }\n",
       "\n",
       "    .dataframe thead th {\n",
       "        text-align: right;\n",
       "    }\n",
       "</style>\n",
       "<table border=\"1\" class=\"dataframe\">\n",
       "  <thead>\n",
       "    <tr style=\"text-align: right;\">\n",
       "      <th></th>\n",
       "      <th>Booking_ID</th>\n",
       "      <th>no_of_adults</th>\n",
       "      <th>no_of_children</th>\n",
       "      <th>no_of_weekend_nights</th>\n",
       "      <th>no_of_week_nights</th>\n",
       "      <th>type_of_meal_plan</th>\n",
       "      <th>required_car_parking_space</th>\n",
       "      <th>room_type_reserved</th>\n",
       "      <th>lead_time</th>\n",
       "      <th>arrival_year</th>\n",
       "      <th>arrival_month</th>\n",
       "      <th>arrival_date</th>\n",
       "      <th>market_segment_type</th>\n",
       "      <th>repeated_guest</th>\n",
       "      <th>no_of_previous_cancellations</th>\n",
       "      <th>no_of_previous_bookings_not_canceled</th>\n",
       "      <th>avg_price_per_room</th>\n",
       "      <th>no_of_special_requests</th>\n",
       "      <th>booking_status</th>\n",
       "    </tr>\n",
       "  </thead>\n",
       "  <tbody>\n",
       "    <tr>\n",
       "      <th>0</th>\n",
       "      <td>INN00001</td>\n",
       "      <td>2</td>\n",
       "      <td>0</td>\n",
       "      <td>1</td>\n",
       "      <td>2</td>\n",
       "      <td>Meal Plan 1</td>\n",
       "      <td>0</td>\n",
       "      <td>Room_Type 1</td>\n",
       "      <td>224</td>\n",
       "      <td>2017</td>\n",
       "      <td>10</td>\n",
       "      <td>2</td>\n",
       "      <td>Offline</td>\n",
       "      <td>0</td>\n",
       "      <td>0</td>\n",
       "      <td>0</td>\n",
       "      <td>65.00</td>\n",
       "      <td>0</td>\n",
       "      <td>Not_Canceled</td>\n",
       "    </tr>\n",
       "    <tr>\n",
       "      <th>1</th>\n",
       "      <td>INN00002</td>\n",
       "      <td>2</td>\n",
       "      <td>0</td>\n",
       "      <td>2</td>\n",
       "      <td>3</td>\n",
       "      <td>Not Selected</td>\n",
       "      <td>0</td>\n",
       "      <td>Room_Type 1</td>\n",
       "      <td>5</td>\n",
       "      <td>2018</td>\n",
       "      <td>11</td>\n",
       "      <td>6</td>\n",
       "      <td>Online</td>\n",
       "      <td>0</td>\n",
       "      <td>0</td>\n",
       "      <td>0</td>\n",
       "      <td>106.68</td>\n",
       "      <td>1</td>\n",
       "      <td>Not_Canceled</td>\n",
       "    </tr>\n",
       "    <tr>\n",
       "      <th>2</th>\n",
       "      <td>INN00003</td>\n",
       "      <td>1</td>\n",
       "      <td>0</td>\n",
       "      <td>2</td>\n",
       "      <td>1</td>\n",
       "      <td>Meal Plan 1</td>\n",
       "      <td>0</td>\n",
       "      <td>Room_Type 1</td>\n",
       "      <td>1</td>\n",
       "      <td>2018</td>\n",
       "      <td>2</td>\n",
       "      <td>28</td>\n",
       "      <td>Online</td>\n",
       "      <td>0</td>\n",
       "      <td>0</td>\n",
       "      <td>0</td>\n",
       "      <td>60.00</td>\n",
       "      <td>0</td>\n",
       "      <td>Canceled</td>\n",
       "    </tr>\n",
       "    <tr>\n",
       "      <th>3</th>\n",
       "      <td>INN00004</td>\n",
       "      <td>2</td>\n",
       "      <td>0</td>\n",
       "      <td>0</td>\n",
       "      <td>2</td>\n",
       "      <td>Meal Plan 1</td>\n",
       "      <td>0</td>\n",
       "      <td>Room_Type 1</td>\n",
       "      <td>211</td>\n",
       "      <td>2018</td>\n",
       "      <td>5</td>\n",
       "      <td>20</td>\n",
       "      <td>Online</td>\n",
       "      <td>0</td>\n",
       "      <td>0</td>\n",
       "      <td>0</td>\n",
       "      <td>100.00</td>\n",
       "      <td>0</td>\n",
       "      <td>Canceled</td>\n",
       "    </tr>\n",
       "    <tr>\n",
       "      <th>4</th>\n",
       "      <td>INN00005</td>\n",
       "      <td>2</td>\n",
       "      <td>0</td>\n",
       "      <td>1</td>\n",
       "      <td>1</td>\n",
       "      <td>Not Selected</td>\n",
       "      <td>0</td>\n",
       "      <td>Room_Type 1</td>\n",
       "      <td>48</td>\n",
       "      <td>2018</td>\n",
       "      <td>4</td>\n",
       "      <td>11</td>\n",
       "      <td>Online</td>\n",
       "      <td>0</td>\n",
       "      <td>0</td>\n",
       "      <td>0</td>\n",
       "      <td>94.50</td>\n",
       "      <td>0</td>\n",
       "      <td>Canceled</td>\n",
       "    </tr>\n",
       "  </tbody>\n",
       "</table>\n",
       "</div>"
      ],
      "text/plain": [
       "  Booking_ID  no_of_adults  no_of_children  no_of_weekend_nights  \\\n",
       "0   INN00001             2               0                     1   \n",
       "1   INN00002             2               0                     2   \n",
       "2   INN00003             1               0                     2   \n",
       "3   INN00004             2               0                     0   \n",
       "4   INN00005             2               0                     1   \n",
       "\n",
       "   no_of_week_nights type_of_meal_plan  required_car_parking_space  \\\n",
       "0                  2       Meal Plan 1                           0   \n",
       "1                  3      Not Selected                           0   \n",
       "2                  1       Meal Plan 1                           0   \n",
       "3                  2       Meal Plan 1                           0   \n",
       "4                  1      Not Selected                           0   \n",
       "\n",
       "  room_type_reserved  lead_time  arrival_year  arrival_month  arrival_date  \\\n",
       "0        Room_Type 1        224          2017             10             2   \n",
       "1        Room_Type 1          5          2018             11             6   \n",
       "2        Room_Type 1          1          2018              2            28   \n",
       "3        Room_Type 1        211          2018              5            20   \n",
       "4        Room_Type 1         48          2018              4            11   \n",
       "\n",
       "  market_segment_type  repeated_guest  no_of_previous_cancellations  \\\n",
       "0             Offline               0                             0   \n",
       "1              Online               0                             0   \n",
       "2              Online               0                             0   \n",
       "3              Online               0                             0   \n",
       "4              Online               0                             0   \n",
       "\n",
       "   no_of_previous_bookings_not_canceled  avg_price_per_room  \\\n",
       "0                                     0               65.00   \n",
       "1                                     0              106.68   \n",
       "2                                     0               60.00   \n",
       "3                                     0              100.00   \n",
       "4                                     0               94.50   \n",
       "\n",
       "   no_of_special_requests booking_status  \n",
       "0                       0   Not_Canceled  \n",
       "1                       1   Not_Canceled  \n",
       "2                       0       Canceled  \n",
       "3                       0       Canceled  \n",
       "4                       0       Canceled  "
      ]
     },
     "execution_count": 3,
     "metadata": {},
     "output_type": "execute_result"
    }
   ],
   "source": [
    "df.head()"
   ]
  },
  {
   "cell_type": "code",
   "execution_count": 7,
   "id": "e109b3ee",
   "metadata": {
    "scrolled": true
   },
   "outputs": [
    {
     "name": "stdout",
     "output_type": "stream",
     "text": [
      "<class 'pandas.core.frame.DataFrame'>\n",
      "RangeIndex: 36275 entries, 0 to 36274\n",
      "Data columns (total 19 columns):\n",
      " #   Column                                Non-Null Count  Dtype  \n",
      "---  ------                                --------------  -----  \n",
      " 0   Booking_ID                            36275 non-null  object \n",
      " 1   no_of_adults                          36275 non-null  int64  \n",
      " 2   no_of_children                        36275 non-null  int64  \n",
      " 3   no_of_weekend_nights                  36275 non-null  int64  \n",
      " 4   no_of_week_nights                     36275 non-null  int64  \n",
      " 5   type_of_meal_plan                     36275 non-null  object \n",
      " 6   required_car_parking_space            36275 non-null  int64  \n",
      " 7   room_type_reserved                    36275 non-null  object \n",
      " 8   lead_time                             36275 non-null  int64  \n",
      " 9   arrival_year                          36275 non-null  int64  \n",
      " 10  arrival_month                         36275 non-null  int64  \n",
      " 11  arrival_date                          36275 non-null  int64  \n",
      " 12  market_segment_type                   36275 non-null  object \n",
      " 13  repeated_guest                        36275 non-null  int64  \n",
      " 14  no_of_previous_cancellations          36275 non-null  int64  \n",
      " 15  no_of_previous_bookings_not_canceled  36275 non-null  int64  \n",
      " 16  avg_price_per_room                    36275 non-null  float64\n",
      " 17  no_of_special_requests                36275 non-null  int64  \n",
      " 18  booking_status                        36275 non-null  object \n",
      "dtypes: float64(1), int64(13), object(5)\n",
      "memory usage: 5.3+ MB\n"
     ]
    }
   ],
   "source": [
    "#Check for null values\n",
    "df.info()"
   ]
  },
  {
   "cell_type": "code",
   "execution_count": 36,
   "id": "50bba521",
   "metadata": {},
   "outputs": [
    {
     "data": {
      "text/plain": [
       "array(['Meal Plan 1', 'Not Selected', 'Meal Plan 2', 'Meal Plan 3'],\n",
       "      dtype=object)"
      ]
     },
     "execution_count": 36,
     "metadata": {},
     "output_type": "execute_result"
    }
   ],
   "source": [
    "df['type_of_meal_plan'].unique()"
   ]
  },
  {
   "cell_type": "code",
   "execution_count": 35,
   "id": "8aed883d",
   "metadata": {},
   "outputs": [
    {
     "data": {
      "text/plain": [
       "Meal Plan 1     27835\n",
       "Not Selected     5130\n",
       "Meal Plan 2      3305\n",
       "Meal Plan 3         5\n",
       "Name: type_of_meal_plan, dtype: int64"
      ]
     },
     "execution_count": 35,
     "metadata": {},
     "output_type": "execute_result"
    }
   ],
   "source": [
    "df['type_of_meal_plan'].value_counts()"
   ]
  },
  {
   "cell_type": "code",
   "execution_count": 34,
   "id": "39a4ef34",
   "metadata": {},
   "outputs": [],
   "source": [
    "#NO null values,this makes our work easier. However i noticed a 'not selected' in the type_of_meal_plan column. \n",
    "#I could assume this to be a null value and attempt to fill it up, or it could be intentional and would add more insight to my model.\n",
    "#I would leave it as it is.\n"
   ]
  },
  {
   "cell_type": "code",
   "execution_count": 37,
   "id": "0a2981b5",
   "metadata": {},
   "outputs": [
    {
     "data": {
      "text/html": [
       "<div>\n",
       "<style scoped>\n",
       "    .dataframe tbody tr th:only-of-type {\n",
       "        vertical-align: middle;\n",
       "    }\n",
       "\n",
       "    .dataframe tbody tr th {\n",
       "        vertical-align: top;\n",
       "    }\n",
       "\n",
       "    .dataframe thead th {\n",
       "        text-align: right;\n",
       "    }\n",
       "</style>\n",
       "<table border=\"1\" class=\"dataframe\">\n",
       "  <thead>\n",
       "    <tr style=\"text-align: right;\">\n",
       "      <th></th>\n",
       "      <th>no_of_adults</th>\n",
       "      <th>no_of_children</th>\n",
       "      <th>no_of_weekend_nights</th>\n",
       "      <th>no_of_week_nights</th>\n",
       "      <th>required_car_parking_space</th>\n",
       "      <th>lead_time</th>\n",
       "      <th>arrival_year</th>\n",
       "      <th>arrival_month</th>\n",
       "      <th>arrival_date</th>\n",
       "      <th>repeated_guest</th>\n",
       "      <th>no_of_previous_cancellations</th>\n",
       "      <th>no_of_previous_bookings_not_canceled</th>\n",
       "      <th>avg_price_per_room</th>\n",
       "      <th>no_of_special_requests</th>\n",
       "    </tr>\n",
       "  </thead>\n",
       "  <tbody>\n",
       "    <tr>\n",
       "      <th>no_of_adults</th>\n",
       "      <td>1.000000</td>\n",
       "      <td>-0.019787</td>\n",
       "      <td>0.103316</td>\n",
       "      <td>0.105622</td>\n",
       "      <td>0.011429</td>\n",
       "      <td>0.097287</td>\n",
       "      <td>0.076719</td>\n",
       "      <td>0.021841</td>\n",
       "      <td>0.026338</td>\n",
       "      <td>-0.192277</td>\n",
       "      <td>-0.047426</td>\n",
       "      <td>-0.119166</td>\n",
       "      <td>0.296886</td>\n",
       "      <td>0.189401</td>\n",
       "    </tr>\n",
       "    <tr>\n",
       "      <th>no_of_children</th>\n",
       "      <td>-0.019787</td>\n",
       "      <td>1.000000</td>\n",
       "      <td>0.029478</td>\n",
       "      <td>0.024398</td>\n",
       "      <td>0.034244</td>\n",
       "      <td>-0.047091</td>\n",
       "      <td>0.045983</td>\n",
       "      <td>-0.003076</td>\n",
       "      <td>0.025482</td>\n",
       "      <td>-0.036348</td>\n",
       "      <td>-0.016390</td>\n",
       "      <td>-0.021189</td>\n",
       "      <td>0.337728</td>\n",
       "      <td>0.124486</td>\n",
       "    </tr>\n",
       "    <tr>\n",
       "      <th>no_of_weekend_nights</th>\n",
       "      <td>0.103316</td>\n",
       "      <td>0.029478</td>\n",
       "      <td>1.000000</td>\n",
       "      <td>0.179577</td>\n",
       "      <td>-0.031111</td>\n",
       "      <td>0.046595</td>\n",
       "      <td>0.055357</td>\n",
       "      <td>-0.009894</td>\n",
       "      <td>0.027304</td>\n",
       "      <td>-0.067107</td>\n",
       "      <td>-0.020690</td>\n",
       "      <td>-0.026312</td>\n",
       "      <td>-0.004525</td>\n",
       "      <td>0.060593</td>\n",
       "    </tr>\n",
       "    <tr>\n",
       "      <th>no_of_week_nights</th>\n",
       "      <td>0.105622</td>\n",
       "      <td>0.024398</td>\n",
       "      <td>0.179577</td>\n",
       "      <td>1.000000</td>\n",
       "      <td>-0.048784</td>\n",
       "      <td>0.149650</td>\n",
       "      <td>0.032672</td>\n",
       "      <td>0.037376</td>\n",
       "      <td>-0.009305</td>\n",
       "      <td>-0.099764</td>\n",
       "      <td>-0.030080</td>\n",
       "      <td>-0.049344</td>\n",
       "      <td>0.022753</td>\n",
       "      <td>0.045994</td>\n",
       "    </tr>\n",
       "    <tr>\n",
       "      <th>required_car_parking_space</th>\n",
       "      <td>0.011429</td>\n",
       "      <td>0.034244</td>\n",
       "      <td>-0.031111</td>\n",
       "      <td>-0.048784</td>\n",
       "      <td>1.000000</td>\n",
       "      <td>-0.066445</td>\n",
       "      <td>0.015684</td>\n",
       "      <td>-0.015505</td>\n",
       "      <td>-0.000037</td>\n",
       "      <td>0.110909</td>\n",
       "      <td>0.027106</td>\n",
       "      <td>0.063810</td>\n",
       "      <td>0.061304</td>\n",
       "      <td>0.087922</td>\n",
       "    </tr>\n",
       "    <tr>\n",
       "      <th>lead_time</th>\n",
       "      <td>0.097287</td>\n",
       "      <td>-0.047091</td>\n",
       "      <td>0.046595</td>\n",
       "      <td>0.149650</td>\n",
       "      <td>-0.066445</td>\n",
       "      <td>1.000000</td>\n",
       "      <td>0.143439</td>\n",
       "      <td>0.136814</td>\n",
       "      <td>0.006479</td>\n",
       "      <td>-0.135984</td>\n",
       "      <td>-0.045723</td>\n",
       "      <td>-0.078137</td>\n",
       "      <td>-0.062596</td>\n",
       "      <td>-0.101645</td>\n",
       "    </tr>\n",
       "    <tr>\n",
       "      <th>arrival_year</th>\n",
       "      <td>0.076719</td>\n",
       "      <td>0.045983</td>\n",
       "      <td>0.055357</td>\n",
       "      <td>0.032672</td>\n",
       "      <td>0.015684</td>\n",
       "      <td>0.143439</td>\n",
       "      <td>1.000000</td>\n",
       "      <td>-0.339689</td>\n",
       "      <td>0.018849</td>\n",
       "      <td>-0.018175</td>\n",
       "      <td>0.003919</td>\n",
       "      <td>0.026422</td>\n",
       "      <td>0.178605</td>\n",
       "      <td>0.053205</td>\n",
       "    </tr>\n",
       "    <tr>\n",
       "      <th>arrival_month</th>\n",
       "      <td>0.021841</td>\n",
       "      <td>-0.003076</td>\n",
       "      <td>-0.009894</td>\n",
       "      <td>0.037376</td>\n",
       "      <td>-0.015505</td>\n",
       "      <td>0.136814</td>\n",
       "      <td>-0.339689</td>\n",
       "      <td>1.000000</td>\n",
       "      <td>-0.042780</td>\n",
       "      <td>0.000341</td>\n",
       "      <td>-0.038615</td>\n",
       "      <td>-0.010718</td>\n",
       "      <td>0.054423</td>\n",
       "      <td>0.110552</td>\n",
       "    </tr>\n",
       "    <tr>\n",
       "      <th>arrival_date</th>\n",
       "      <td>0.026338</td>\n",
       "      <td>0.025482</td>\n",
       "      <td>0.027304</td>\n",
       "      <td>-0.009305</td>\n",
       "      <td>-0.000037</td>\n",
       "      <td>0.006479</td>\n",
       "      <td>0.018849</td>\n",
       "      <td>-0.042780</td>\n",
       "      <td>1.000000</td>\n",
       "      <td>-0.015949</td>\n",
       "      <td>-0.012542</td>\n",
       "      <td>-0.001498</td>\n",
       "      <td>0.017898</td>\n",
       "      <td>0.018352</td>\n",
       "    </tr>\n",
       "    <tr>\n",
       "      <th>repeated_guest</th>\n",
       "      <td>-0.192277</td>\n",
       "      <td>-0.036348</td>\n",
       "      <td>-0.067107</td>\n",
       "      <td>-0.099764</td>\n",
       "      <td>0.110909</td>\n",
       "      <td>-0.135984</td>\n",
       "      <td>-0.018175</td>\n",
       "      <td>0.000341</td>\n",
       "      <td>-0.015949</td>\n",
       "      <td>1.000000</td>\n",
       "      <td>0.390810</td>\n",
       "      <td>0.539156</td>\n",
       "      <td>-0.174900</td>\n",
       "      <td>-0.011820</td>\n",
       "    </tr>\n",
       "    <tr>\n",
       "      <th>no_of_previous_cancellations</th>\n",
       "      <td>-0.047426</td>\n",
       "      <td>-0.016390</td>\n",
       "      <td>-0.020690</td>\n",
       "      <td>-0.030080</td>\n",
       "      <td>0.027106</td>\n",
       "      <td>-0.045723</td>\n",
       "      <td>0.003919</td>\n",
       "      <td>-0.038615</td>\n",
       "      <td>-0.012542</td>\n",
       "      <td>0.390810</td>\n",
       "      <td>1.000000</td>\n",
       "      <td>0.468147</td>\n",
       "      <td>-0.063340</td>\n",
       "      <td>-0.003317</td>\n",
       "    </tr>\n",
       "    <tr>\n",
       "      <th>no_of_previous_bookings_not_canceled</th>\n",
       "      <td>-0.119166</td>\n",
       "      <td>-0.021189</td>\n",
       "      <td>-0.026312</td>\n",
       "      <td>-0.049344</td>\n",
       "      <td>0.063810</td>\n",
       "      <td>-0.078137</td>\n",
       "      <td>0.026422</td>\n",
       "      <td>-0.010718</td>\n",
       "      <td>-0.001498</td>\n",
       "      <td>0.539156</td>\n",
       "      <td>0.468147</td>\n",
       "      <td>1.000000</td>\n",
       "      <td>-0.113684</td>\n",
       "      <td>0.027377</td>\n",
       "    </tr>\n",
       "    <tr>\n",
       "      <th>avg_price_per_room</th>\n",
       "      <td>0.296886</td>\n",
       "      <td>0.337728</td>\n",
       "      <td>-0.004525</td>\n",
       "      <td>0.022753</td>\n",
       "      <td>0.061304</td>\n",
       "      <td>-0.062596</td>\n",
       "      <td>0.178605</td>\n",
       "      <td>0.054423</td>\n",
       "      <td>0.017898</td>\n",
       "      <td>-0.174900</td>\n",
       "      <td>-0.063340</td>\n",
       "      <td>-0.113684</td>\n",
       "      <td>1.000000</td>\n",
       "      <td>0.184381</td>\n",
       "    </tr>\n",
       "    <tr>\n",
       "      <th>no_of_special_requests</th>\n",
       "      <td>0.189401</td>\n",
       "      <td>0.124486</td>\n",
       "      <td>0.060593</td>\n",
       "      <td>0.045994</td>\n",
       "      <td>0.087922</td>\n",
       "      <td>-0.101645</td>\n",
       "      <td>0.053205</td>\n",
       "      <td>0.110552</td>\n",
       "      <td>0.018352</td>\n",
       "      <td>-0.011820</td>\n",
       "      <td>-0.003317</td>\n",
       "      <td>0.027377</td>\n",
       "      <td>0.184381</td>\n",
       "      <td>1.000000</td>\n",
       "    </tr>\n",
       "  </tbody>\n",
       "</table>\n",
       "</div>"
      ],
      "text/plain": [
       "                                      no_of_adults  no_of_children  \\\n",
       "no_of_adults                              1.000000       -0.019787   \n",
       "no_of_children                           -0.019787        1.000000   \n",
       "no_of_weekend_nights                      0.103316        0.029478   \n",
       "no_of_week_nights                         0.105622        0.024398   \n",
       "required_car_parking_space                0.011429        0.034244   \n",
       "lead_time                                 0.097287       -0.047091   \n",
       "arrival_year                              0.076719        0.045983   \n",
       "arrival_month                             0.021841       -0.003076   \n",
       "arrival_date                              0.026338        0.025482   \n",
       "repeated_guest                           -0.192277       -0.036348   \n",
       "no_of_previous_cancellations             -0.047426       -0.016390   \n",
       "no_of_previous_bookings_not_canceled     -0.119166       -0.021189   \n",
       "avg_price_per_room                        0.296886        0.337728   \n",
       "no_of_special_requests                    0.189401        0.124486   \n",
       "\n",
       "                                      no_of_weekend_nights  no_of_week_nights  \\\n",
       "no_of_adults                                      0.103316           0.105622   \n",
       "no_of_children                                    0.029478           0.024398   \n",
       "no_of_weekend_nights                              1.000000           0.179577   \n",
       "no_of_week_nights                                 0.179577           1.000000   \n",
       "required_car_parking_space                       -0.031111          -0.048784   \n",
       "lead_time                                         0.046595           0.149650   \n",
       "arrival_year                                      0.055357           0.032672   \n",
       "arrival_month                                    -0.009894           0.037376   \n",
       "arrival_date                                      0.027304          -0.009305   \n",
       "repeated_guest                                   -0.067107          -0.099764   \n",
       "no_of_previous_cancellations                     -0.020690          -0.030080   \n",
       "no_of_previous_bookings_not_canceled             -0.026312          -0.049344   \n",
       "avg_price_per_room                               -0.004525           0.022753   \n",
       "no_of_special_requests                            0.060593           0.045994   \n",
       "\n",
       "                                      required_car_parking_space  lead_time  \\\n",
       "no_of_adults                                            0.011429   0.097287   \n",
       "no_of_children                                          0.034244  -0.047091   \n",
       "no_of_weekend_nights                                   -0.031111   0.046595   \n",
       "no_of_week_nights                                      -0.048784   0.149650   \n",
       "required_car_parking_space                              1.000000  -0.066445   \n",
       "lead_time                                              -0.066445   1.000000   \n",
       "arrival_year                                            0.015684   0.143439   \n",
       "arrival_month                                          -0.015505   0.136814   \n",
       "arrival_date                                           -0.000037   0.006479   \n",
       "repeated_guest                                          0.110909  -0.135984   \n",
       "no_of_previous_cancellations                            0.027106  -0.045723   \n",
       "no_of_previous_bookings_not_canceled                    0.063810  -0.078137   \n",
       "avg_price_per_room                                      0.061304  -0.062596   \n",
       "no_of_special_requests                                  0.087922  -0.101645   \n",
       "\n",
       "                                      arrival_year  arrival_month  \\\n",
       "no_of_adults                              0.076719       0.021841   \n",
       "no_of_children                            0.045983      -0.003076   \n",
       "no_of_weekend_nights                      0.055357      -0.009894   \n",
       "no_of_week_nights                         0.032672       0.037376   \n",
       "required_car_parking_space                0.015684      -0.015505   \n",
       "lead_time                                 0.143439       0.136814   \n",
       "arrival_year                              1.000000      -0.339689   \n",
       "arrival_month                            -0.339689       1.000000   \n",
       "arrival_date                              0.018849      -0.042780   \n",
       "repeated_guest                           -0.018175       0.000341   \n",
       "no_of_previous_cancellations              0.003919      -0.038615   \n",
       "no_of_previous_bookings_not_canceled      0.026422      -0.010718   \n",
       "avg_price_per_room                        0.178605       0.054423   \n",
       "no_of_special_requests                    0.053205       0.110552   \n",
       "\n",
       "                                      arrival_date  repeated_guest  \\\n",
       "no_of_adults                              0.026338       -0.192277   \n",
       "no_of_children                            0.025482       -0.036348   \n",
       "no_of_weekend_nights                      0.027304       -0.067107   \n",
       "no_of_week_nights                        -0.009305       -0.099764   \n",
       "required_car_parking_space               -0.000037        0.110909   \n",
       "lead_time                                 0.006479       -0.135984   \n",
       "arrival_year                              0.018849       -0.018175   \n",
       "arrival_month                            -0.042780        0.000341   \n",
       "arrival_date                              1.000000       -0.015949   \n",
       "repeated_guest                           -0.015949        1.000000   \n",
       "no_of_previous_cancellations             -0.012542        0.390810   \n",
       "no_of_previous_bookings_not_canceled     -0.001498        0.539156   \n",
       "avg_price_per_room                        0.017898       -0.174900   \n",
       "no_of_special_requests                    0.018352       -0.011820   \n",
       "\n",
       "                                      no_of_previous_cancellations  \\\n",
       "no_of_adults                                             -0.047426   \n",
       "no_of_children                                           -0.016390   \n",
       "no_of_weekend_nights                                     -0.020690   \n",
       "no_of_week_nights                                        -0.030080   \n",
       "required_car_parking_space                                0.027106   \n",
       "lead_time                                                -0.045723   \n",
       "arrival_year                                              0.003919   \n",
       "arrival_month                                            -0.038615   \n",
       "arrival_date                                             -0.012542   \n",
       "repeated_guest                                            0.390810   \n",
       "no_of_previous_cancellations                              1.000000   \n",
       "no_of_previous_bookings_not_canceled                      0.468147   \n",
       "avg_price_per_room                                       -0.063340   \n",
       "no_of_special_requests                                   -0.003317   \n",
       "\n",
       "                                      no_of_previous_bookings_not_canceled  \\\n",
       "no_of_adults                                                     -0.119166   \n",
       "no_of_children                                                   -0.021189   \n",
       "no_of_weekend_nights                                             -0.026312   \n",
       "no_of_week_nights                                                -0.049344   \n",
       "required_car_parking_space                                        0.063810   \n",
       "lead_time                                                        -0.078137   \n",
       "arrival_year                                                      0.026422   \n",
       "arrival_month                                                    -0.010718   \n",
       "arrival_date                                                     -0.001498   \n",
       "repeated_guest                                                    0.539156   \n",
       "no_of_previous_cancellations                                      0.468147   \n",
       "no_of_previous_bookings_not_canceled                              1.000000   \n",
       "avg_price_per_room                                               -0.113684   \n",
       "no_of_special_requests                                            0.027377   \n",
       "\n",
       "                                      avg_price_per_room  \\\n",
       "no_of_adults                                    0.296886   \n",
       "no_of_children                                  0.337728   \n",
       "no_of_weekend_nights                           -0.004525   \n",
       "no_of_week_nights                               0.022753   \n",
       "required_car_parking_space                      0.061304   \n",
       "lead_time                                      -0.062596   \n",
       "arrival_year                                    0.178605   \n",
       "arrival_month                                   0.054423   \n",
       "arrival_date                                    0.017898   \n",
       "repeated_guest                                 -0.174900   \n",
       "no_of_previous_cancellations                   -0.063340   \n",
       "no_of_previous_bookings_not_canceled           -0.113684   \n",
       "avg_price_per_room                              1.000000   \n",
       "no_of_special_requests                          0.184381   \n",
       "\n",
       "                                      no_of_special_requests  \n",
       "no_of_adults                                        0.189401  \n",
       "no_of_children                                      0.124486  \n",
       "no_of_weekend_nights                                0.060593  \n",
       "no_of_week_nights                                   0.045994  \n",
       "required_car_parking_space                          0.087922  \n",
       "lead_time                                          -0.101645  \n",
       "arrival_year                                        0.053205  \n",
       "arrival_month                                       0.110552  \n",
       "arrival_date                                        0.018352  \n",
       "repeated_guest                                     -0.011820  \n",
       "no_of_previous_cancellations                       -0.003317  \n",
       "no_of_previous_bookings_not_canceled                0.027377  \n",
       "avg_price_per_room                                  0.184381  \n",
       "no_of_special_requests                              1.000000  "
      ]
     },
     "execution_count": 37,
     "metadata": {},
     "output_type": "execute_result"
    }
   ],
   "source": [
    "df.corr()\n",
    "#Any two identical columns would be a problem and one would need to be removed. everything is good here"
   ]
  },
  {
   "cell_type": "markdown",
   "id": "ea81fc0f",
   "metadata": {},
   "source": [
    "# EDA\n"
   ]
  },
  {
   "cell_type": "code",
   "execution_count": 45,
   "id": "ac87d1ab",
   "metadata": {},
   "outputs": [
    {
     "data": {
      "text/plain": [
       "<AxesSubplot:>"
      ]
     },
     "execution_count": 45,
     "metadata": {},
     "output_type": "execute_result"
    },
    {
     "data": {
      "image/png": "[encoded data removed]",
      "text/plain": [
       "<Figure size 864x504 with 2 Axes>"
      ]
     },
     "metadata": {
      "needs_background": "light"
     },
     "output_type": "display_data"
    }
   ],
   "source": [
    "plt.figure(figsize=(12,7))\n",
    "sns.heatmap(df.corr(),cmap='coolwarm',annot=True)"
   ]
  },
  {
   "cell_type": "code",
   "execution_count": 48,
   "id": "91e2e6dc",
   "metadata": {},
   "outputs": [
    {
     "data": {
      "text/plain": [
       "<AxesSubplot:xlabel='booking_status', ylabel='count'>"
      ]
     },
     "execution_count": 48,
     "metadata": {},
     "output_type": "execute_result"
    },
    {
     "data": {
      "image/png": "[encoded data removed]",
      "text/plain": [
       "<Figure size 432x288 with 1 Axes>"
      ]
     },
     "metadata": {},
     "output_type": "display_data"
    }
   ],
   "source": [
    "sns.set_style('whitegrid')\n",
    "sns.countplot(x='booking_status',data=df)"
   ]
  },
  {
   "cell_type": "code",
   "execution_count": 51,
   "id": "9916d49d",
   "metadata": {},
   "outputs": [
    {
     "data": {
      "text/plain": [
       "<AxesSubplot:xlabel='type_of_meal_plan', ylabel='count'>"
      ]
     },
     "execution_count": 51,
     "metadata": {},
     "output_type": "execute_result"
    },
    {
     "data": {
      "image/png": "[encoded data removed]",
      "text/plain": [
       "<Figure size 432x288 with 1 Axes>"
      ]
     },
     "metadata": {},
     "output_type": "display_data"
    }
   ],
   "source": [
    "sns.countplot(x='type_of_meal_plan',data=df, hue='booking_status')"
   ]
  },
  {
   "cell_type": "code",
   "execution_count": 53,
   "id": "34a69365",
   "metadata": {},
   "outputs": [
    {
     "data": {
      "text/plain": [
       "<AxesSubplot:xlabel='room_type_reserved', ylabel='count'>"
      ]
     },
     "execution_count": 53,
     "metadata": {},
     "output_type": "execute_result"
    },
    {
     "data": {
      "image/png": "[encoded data removed]",
      "text/plain": [
       "<Figure size 864x360 with 1 Axes>"
      ]
     },
     "metadata": {},
     "output_type": "display_data"
    }
   ],
   "source": [
    "plt.figure(figsize=(12,5))\n",
    "sns.countplot(x='room_type_reserved',data=df, hue='booking_status')"
   ]
  },
  {
   "cell_type": "code",
   "execution_count": 54,
   "id": "67950fba",
   "metadata": {},
   "outputs": [
    {
     "data": {
      "text/plain": [
       "<AxesSubplot:xlabel='market_segment_type', ylabel='count'>"
      ]
     },
     "execution_count": 54,
     "metadata": {},
     "output_type": "execute_result"
    },
    {
     "data": {
      "image/png": "[encoded data removed]",
      "text/plain": [
       "<Figure size 432x288 with 1 Axes>"
      ]
     },
     "metadata": {},
     "output_type": "display_data"
    }
   ],
   "source": [
    "sns.countplot(x='market_segment_type',data=df, hue='booking_status')"
   ]
  },
  {
   "cell_type": "code",
   "execution_count": 55,
   "id": "b8b53737",
   "metadata": {},
   "outputs": [
    {
     "data": {
      "text/plain": [
       "<AxesSubplot:xlabel='arrival_year', ylabel='count'>"
      ]
     },
     "execution_count": 55,
     "metadata": {},
     "output_type": "execute_result"
    },
    {
     "data": {
      "image/png": "[encoded data removed]",
      "text/plain": [
       "<Figure size 432x288 with 1 Axes>"
      ]
     },
     "metadata": {},
     "output_type": "display_data"
    }
   ],
   "source": [
    "sns.countplot(x='arrival_year',data=df, hue='booking_status')"
   ]
  },
  {
   "cell_type": "code",
   "execution_count": 57,
   "id": "b4a7862d",
   "metadata": {},
   "outputs": [
    {
     "data": {
      "text/plain": [
       "<AxesSubplot:xlabel='avg_price_per_room'>"
      ]
     },
     "execution_count": 57,
     "metadata": {},
     "output_type": "execute_result"
    },
    {
     "data": {
      "image/png": "[encoded data removed]",
      "text/plain": [
       "<Figure size 432x288 with 1 Axes>"
      ]
     },
     "metadata": {},
     "output_type": "display_data"
    }
   ],
   "source": [
    "sns.distplot(df['avg_price_per_room'],kde=False,bins=30)"
   ]
  },
  {
   "cell_type": "code",
   "execution_count": 58,
   "id": "5261dca5",
   "metadata": {},
   "outputs": [
    {
     "data": {
      "text/plain": [
       "<AxesSubplot:xlabel='booking_status', ylabel='avg_price_per_room'>"
      ]
     },
     "execution_count": 58,
     "metadata": {},
     "output_type": "execute_result"
    },
    {
     "data": {
      "image/png": "[encoded data removed]",
      "text/plain": [
       "<Figure size 432x288 with 1 Axes>"
      ]
     },
     "metadata": {},
     "output_type": "display_data"
    }
   ],
   "source": [
    "sns.boxplot(x='booking_status',y='avg_price_per_room',data=df,palette='winter')"
   ]
  },
  {
   "cell_type": "markdown",
   "id": "88ceb953",
   "metadata": {},
   "source": [
    "# data cleaning and converting categorical features\n"
   ]
  },
  {
   "cell_type": "code",
   "execution_count": 59,
   "id": "861b8114",
   "metadata": {},
   "outputs": [],
   "source": [
    "#Booking_Id and arrival_date have no significance to the model and would be dropped"
   ]
  },
  {
   "cell_type": "code",
   "execution_count": 60,
   "id": "bab725d2",
   "metadata": {},
   "outputs": [],
   "source": [
    "df.drop(['Booking_ID','arrival_date'],axis = 1, inplace = True)"
   ]
  },
  {
   "cell_type": "code",
   "execution_count": 63,
   "id": "c04964f7",
   "metadata": {},
   "outputs": [],
   "source": [
    "#converting booking_status to 0 and 1\n",
    "df['booking_status']=df['booking_status'].replace(['Not_Canceled', 'Canceled'],[1,0])"
   ]
  },
  {
   "cell_type": "code",
   "execution_count": 64,
   "id": "dce38dc7",
   "metadata": {},
   "outputs": [],
   "source": [
    "#converting arrival_month to string,so as to change it to dummy variables\n",
    "df['arrival_month']=df['arrival_month'].replace([1,2,3,4,5,6,7,8,9,10,11,12],['jan','feb','mar','apr','may','jun','jul','aug','sep','oct','nov','dec'])"
   ]
  },
  {
   "cell_type": "code",
   "execution_count": 65,
   "id": "ba3f9d19",
   "metadata": {},
   "outputs": [],
   "source": [
    "#converting categorical features to dummy variables\n",
    "dummies = pd.get_dummies(df[['type_of_meal_plan', 'room_type_reserved','arrival_month','market_segment_type','arrival_year']],drop_first=True)\n",
    "df = df.drop(['type_of_meal_plan', 'room_type_reserved','arrival_month','market_segment_type','arrival_year'],axis=1)\n",
    "df = pd.concat([df,dummies],axis=1)"
   ]
  },
  {
   "cell_type": "code",
   "execution_count": 67,
   "id": "3e0f44c3",
   "metadata": {},
   "outputs": [
    {
     "data": {
      "text/plain": [
       "Index(['no_of_adults', 'no_of_children', 'no_of_weekend_nights',\n",
       "       'no_of_week_nights', 'required_car_parking_space', 'lead_time',\n",
       "       'repeated_guest', 'no_of_previous_cancellations',\n",
       "       'no_of_previous_bookings_not_canceled', 'avg_price_per_room',\n",
       "       'no_of_special_requests', 'booking_status', 'arrival_year',\n",
       "       'type_of_meal_plan_Meal Plan 2', 'type_of_meal_plan_Meal Plan 3',\n",
       "       'type_of_meal_plan_Not Selected', 'room_type_reserved_Room_Type 2',\n",
       "       'room_type_reserved_Room_Type 3', 'room_type_reserved_Room_Type 4',\n",
       "       'room_type_reserved_Room_Type 5', 'room_type_reserved_Room_Type 6',\n",
       "       'room_type_reserved_Room_Type 7', 'arrival_month_aug',\n",
       "       'arrival_month_dec', 'arrival_month_feb', 'arrival_month_jan',\n",
       "       'arrival_month_jul', 'arrival_month_jun', 'arrival_month_mar',\n",
       "       'arrival_month_may', 'arrival_month_nov', 'arrival_month_oct',\n",
       "       'arrival_month_sep', 'market_segment_type_Complementary',\n",
       "       'market_segment_type_Corporate', 'market_segment_type_Offline',\n",
       "       'market_segment_type_Online'],\n",
       "      dtype='object')"
      ]
     },
     "execution_count": 67,
     "metadata": {},
     "output_type": "execute_result"
    }
   ],
   "source": [
    "df.columns"
   ]
  },
  {
   "cell_type": "markdown",
   "id": "cf055e7d",
   "metadata": {},
   "source": [
    "# building a neural network"
   ]
  },
  {
   "cell_type": "code",
   "execution_count": 68,
   "id": "03067a0a",
   "metadata": {},
   "outputs": [],
   "source": [
    "X = df.drop('booking_status',axis=1).values\n",
    "Y = df['booking_status'].values"
   ]
  },
  {
   "cell_type": "code",
   "execution_count": 69,
   "id": "d1b3e022",
   "metadata": {},
   "outputs": [],
   "source": [
    "from sklearn.model_selection import train_test_split"
   ]
  },
  {
   "cell_type": "code",
   "execution_count": 70,
   "id": "4436c59e",
   "metadata": {},
   "outputs": [
    {
     "data": {
      "text/plain": [
       "(36275, 36)"
      ]
     },
     "execution_count": 70,
     "metadata": {},
     "output_type": "execute_result"
    }
   ],
   "source": [
    "X.shape"
   ]
  },
  {
   "cell_type": "code",
   "execution_count": 71,
   "id": "956fabb7",
   "metadata": {},
   "outputs": [],
   "source": [
    "X_train, X_test, y_train, y_test = train_test_split(X, Y, test_size=0.20, random_state=101)"
   ]
  },
  {
   "cell_type": "code",
   "execution_count": 72,
   "id": "395da2e2",
   "metadata": {},
   "outputs": [],
   "source": [
    "#Scale the data\n",
    "from sklearn.preprocessing import MinMaxScaler"
   ]
  },
  {
   "cell_type": "code",
   "execution_count": 73,
   "id": "6c5d9492",
   "metadata": {},
   "outputs": [],
   "source": [
    "scaler = MinMaxScaler()"
   ]
  },
  {
   "cell_type": "code",
   "execution_count": 74,
   "id": "4be68174",
   "metadata": {},
   "outputs": [],
   "source": [
    "X_train = scaler.fit_transform(X_train)"
   ]
  },
  {
   "cell_type": "code",
   "execution_count": 75,
   "id": "756ae727",
   "metadata": {},
   "outputs": [],
   "source": [
    "X_test = scaler.transform(X_test)"
   ]
  },
  {
   "cell_type": "code",
   "execution_count": 76,
   "id": "b2795065",
   "metadata": {},
   "outputs": [],
   "source": [
    "import tensorflow as tf\n",
    "from tensorflow.keras.models import Sequential\n",
    "from tensorflow.keras.layers import Dense, Activation,Dropout\n",
    "from tensorflow.keras.constraints import max_norm"
   ]
  },
  {
   "cell_type": "code",
   "execution_count": 77,
   "id": "ed81bfb1",
   "metadata": {},
   "outputs": [],
   "source": [
    "model = Sequential()\n",
    "\n",
    "\n",
    "\n",
    "# input layer\n",
    "model.add(Dense(36,  activation='relu'))\n",
    "model.add(Dropout(0.1))\n",
    "\n",
    "# hidden layer\n",
    "model.add(Dense(36, activation='relu'))\n",
    "model.add(Dropout(0.1))\n",
    "\n",
    "# hidden layer\n",
    "model.add(Dense(18, activation='relu'))\n",
    "model.add(Dropout(0.1))\n",
    "\n",
    "model.add(Dense(9, activation='relu'))\n",
    "model.add(Dropout(0.1))\n",
    "\n",
    "# output layer\n",
    "model.add(Dense(units=1,activation='sigmoid'))\n",
    "\n",
    "# Compile model\n",
    "model.compile(loss='binary_crossentropy', optimizer='adam')"
   ]
  },
  {
   "cell_type": "code",
   "execution_count": 78,
   "id": "8b786401",
   "metadata": {},
   "outputs": [],
   "source": [
    "from tensorflow.keras.callbacks import EarlyStopping"
   ]
  },
  {
   "cell_type": "code",
   "execution_count": 79,
   "id": "e78f5307",
   "metadata": {},
   "outputs": [],
   "source": [
    "early_stop = EarlyStopping(monitor='val_loss', mode='min', verbose=1, patience=20)"
   ]
  },
  {
   "cell_type": "code",
   "execution_count": 80,
   "id": "8f9aa50f",
   "metadata": {},
   "outputs": [
    {
     "name": "stdout",
     "output_type": "stream",
     "text": [
      "Epoch 1/600\n",
      "117/117 [==============================] - 5s 7ms/step - loss: 0.6143 - val_loss: 0.5211\n",
      "Epoch 2/600\n",
      "117/117 [==============================] - 0s 4ms/step - loss: 0.4793 - val_loss: 0.4276\n",
      "Epoch 3/600\n",
      "117/117 [==============================] - 0s 4ms/step - loss: 0.4376 - val_loss: 0.4125\n",
      "Epoch 4/600\n",
      "117/117 [==============================] - 0s 4ms/step - loss: 0.4237 - val_loss: 0.4036\n",
      "Epoch 5/600\n",
      "117/117 [==============================] - 0s 4ms/step - loss: 0.4152 - val_loss: 0.3987\n",
      "Epoch 6/600\n",
      "117/117 [==============================] - 0s 4ms/step - loss: 0.4081 - val_loss: 0.3943\n",
      "Epoch 7/600\n",
      "117/117 [==============================] - 0s 4ms/step - loss: 0.4013 - val_loss: 0.3894\n",
      "Epoch 8/600\n",
      "117/117 [==============================] - 0s 4ms/step - loss: 0.3947 - val_loss: 0.3832\n",
      "Epoch 9/600\n",
      "117/117 [==============================] - 0s 4ms/step - loss: 0.3896 - val_loss: 0.3764\n",
      "Epoch 10/600\n",
      "117/117 [==============================] - 0s 4ms/step - loss: 0.3848 - val_loss: 0.3732\n",
      "Epoch 11/600\n",
      "117/117 [==============================] - 0s 4ms/step - loss: 0.3821 - val_loss: 0.3681\n",
      "Epoch 12/600\n",
      "117/117 [==============================] - 0s 4ms/step - loss: 0.3770 - val_loss: 0.3650\n",
      "Epoch 13/600\n",
      "117/117 [==============================] - 0s 4ms/step - loss: 0.3722 - val_loss: 0.3628\n",
      "Epoch 14/600\n",
      "117/117 [==============================] - 0s 4ms/step - loss: 0.3672 - val_loss: 0.3553\n",
      "Epoch 15/600\n",
      "117/117 [==============================] - 0s 4ms/step - loss: 0.3671 - val_loss: 0.3540\n",
      "Epoch 16/600\n",
      "117/117 [==============================] - 0s 4ms/step - loss: 0.3627 - val_loss: 0.3510\n",
      "Epoch 17/600\n",
      "117/117 [==============================] - 0s 4ms/step - loss: 0.3619 - val_loss: 0.3492\n",
      "Epoch 18/600\n",
      "117/117 [==============================] - 0s 4ms/step - loss: 0.3580 - val_loss: 0.3487\n",
      "Epoch 19/600\n",
      "117/117 [==============================] - 0s 4ms/step - loss: 0.3567 - val_loss: 0.3455\n",
      "Epoch 20/600\n",
      "117/117 [==============================] - 0s 4ms/step - loss: 0.3559 - val_loss: 0.3438\n",
      "Epoch 21/600\n",
      "117/117 [==============================] - 0s 4ms/step - loss: 0.3522 - val_loss: 0.3439\n",
      "Epoch 22/600\n",
      "117/117 [==============================] - 1s 4ms/step - loss: 0.3500 - val_loss: 0.3409\n",
      "Epoch 23/600\n",
      "117/117 [==============================] - 1s 4ms/step - loss: 0.3517 - val_loss: 0.3387\n",
      "Epoch 24/600\n",
      "117/117 [==============================] - 1s 4ms/step - loss: 0.3483 - val_loss: 0.3386\n",
      "Epoch 25/600\n",
      "117/117 [==============================] - 0s 4ms/step - loss: 0.3436 - val_loss: 0.3355\n",
      "Epoch 26/600\n",
      "117/117 [==============================] - 0s 4ms/step - loss: 0.3437 - val_loss: 0.3341\n",
      "Epoch 27/600\n",
      "117/117 [==============================] - 0s 4ms/step - loss: 0.3436 - val_loss: 0.3344\n",
      "Epoch 28/600\n",
      "117/117 [==============================] - 0s 4ms/step - loss: 0.3444 - val_loss: 0.3335\n",
      "Epoch 29/600\n",
      "117/117 [==============================] - 0s 4ms/step - loss: 0.3407 - val_loss: 0.3334\n",
      "Epoch 30/600\n",
      "117/117 [==============================] - 0s 4ms/step - loss: 0.3389 - val_loss: 0.3321\n",
      "Epoch 31/600\n",
      "117/117 [==============================] - 0s 4ms/step - loss: 0.3382 - val_loss: 0.3310\n",
      "Epoch 32/600\n",
      "117/117 [==============================] - 0s 4ms/step - loss: 0.3371 - val_loss: 0.3294\n",
      "Epoch 33/600\n",
      "117/117 [==============================] - 0s 4ms/step - loss: 0.3370 - val_loss: 0.3287\n",
      "Epoch 34/600\n",
      "117/117 [==============================] - 0s 4ms/step - loss: 0.3374 - val_loss: 0.3304\n",
      "Epoch 35/600\n",
      "117/117 [==============================] - 0s 4ms/step - loss: 0.3353 - val_loss: 0.3280\n",
      "Epoch 36/600\n",
      "117/117 [==============================] - 0s 4ms/step - loss: 0.3338 - val_loss: 0.3278\n",
      "Epoch 37/600\n",
      "117/117 [==============================] - 0s 4ms/step - loss: 0.3329 - val_loss: 0.3283\n",
      "Epoch 38/600\n",
      "117/117 [==============================] - 0s 4ms/step - loss: 0.3326 - val_loss: 0.3261\n",
      "Epoch 39/600\n",
      "117/117 [==============================] - 0s 4ms/step - loss: 0.3313 - val_loss: 0.3255\n",
      "Epoch 40/600\n",
      "117/117 [==============================] - 0s 4ms/step - loss: 0.3319 - val_loss: 0.3255\n",
      "Epoch 41/600\n",
      "117/117 [==============================] - 0s 4ms/step - loss: 0.3317 - val_loss: 0.3239\n",
      "Epoch 42/600\n",
      "117/117 [==============================] - 0s 4ms/step - loss: 0.3298 - val_loss: 0.3260\n",
      "Epoch 43/600\n",
      "117/117 [==============================] - 0s 4ms/step - loss: 0.3310 - val_loss: 0.3230\n",
      "Epoch 44/600\n",
      "117/117 [==============================] - 0s 4ms/step - loss: 0.3305 - val_loss: 0.3238\n",
      "Epoch 45/600\n",
      "117/117 [==============================] - 0s 4ms/step - loss: 0.3292 - val_loss: 0.3236\n",
      "Epoch 46/600\n",
      "117/117 [==============================] - 0s 4ms/step - loss: 0.3297 - val_loss: 0.3209\n",
      "Epoch 47/600\n",
      "117/117 [==============================] - 0s 4ms/step - loss: 0.3265 - val_loss: 0.3235\n",
      "Epoch 48/600\n",
      "117/117 [==============================] - 0s 4ms/step - loss: 0.3261 - val_loss: 0.3214\n",
      "Epoch 49/600\n",
      "117/117 [==============================] - 0s 4ms/step - loss: 0.3268 - val_loss: 0.3200\n",
      "Epoch 50/600\n",
      "117/117 [==============================] - 0s 4ms/step - loss: 0.3262 - val_loss: 0.3201\n",
      "Epoch 51/600\n",
      "117/117 [==============================] - 0s 4ms/step - loss: 0.3248 - val_loss: 0.3255\n",
      "Epoch 52/600\n",
      "117/117 [==============================] - 0s 4ms/step - loss: 0.3256 - val_loss: 0.3194\n",
      "Epoch 53/600\n",
      "117/117 [==============================] - 0s 4ms/step - loss: 0.3257 - val_loss: 0.3162\n",
      "Epoch 54/600\n",
      "117/117 [==============================] - 0s 4ms/step - loss: 0.3261 - val_loss: 0.3198\n",
      "Epoch 55/600\n",
      "117/117 [==============================] - 0s 4ms/step - loss: 0.3241 - val_loss: 0.3159\n",
      "Epoch 56/600\n",
      "117/117 [==============================] - 0s 4ms/step - loss: 0.3224 - val_loss: 0.3171\n",
      "Epoch 57/600\n",
      "117/117 [==============================] - 0s 4ms/step - loss: 0.3224 - val_loss: 0.3164\n",
      "Epoch 58/600\n",
      "117/117 [==============================] - 1s 4ms/step - loss: 0.3217 - val_loss: 0.3155\n",
      "Epoch 59/600\n",
      "117/117 [==============================] - 1s 4ms/step - loss: 0.3230 - val_loss: 0.3180\n",
      "Epoch 60/600\n",
      "117/117 [==============================] - 0s 4ms/step - loss: 0.3225 - val_loss: 0.3175\n",
      "Epoch 61/600\n",
      "117/117 [==============================] - 0s 4ms/step - loss: 0.3216 - val_loss: 0.3155\n",
      "Epoch 62/600\n",
      "117/117 [==============================] - 0s 4ms/step - loss: 0.3206 - val_loss: 0.3172\n",
      "Epoch 63/600\n",
      "117/117 [==============================] - 0s 4ms/step - loss: 0.3213 - val_loss: 0.3172\n",
      "Epoch 64/600\n",
      "117/117 [==============================] - 0s 4ms/step - loss: 0.3197 - val_loss: 0.3149\n",
      "Epoch 65/600\n",
      "117/117 [==============================] - 0s 4ms/step - loss: 0.3185 - val_loss: 0.3157\n",
      "Epoch 66/600\n",
      "117/117 [==============================] - 0s 4ms/step - loss: 0.3191 - val_loss: 0.3167\n",
      "Epoch 67/600\n",
      "117/117 [==============================] - 0s 4ms/step - loss: 0.3176 - val_loss: 0.3144\n",
      "Epoch 68/600\n",
      "117/117 [==============================] - 0s 4ms/step - loss: 0.3194 - val_loss: 0.3159\n",
      "Epoch 69/600\n",
      "117/117 [==============================] - 0s 4ms/step - loss: 0.3198 - val_loss: 0.3121\n",
      "Epoch 70/600\n",
      "117/117 [==============================] - 0s 4ms/step - loss: 0.3199 - val_loss: 0.3141\n",
      "Epoch 71/600\n",
      "117/117 [==============================] - 0s 4ms/step - loss: 0.3183 - val_loss: 0.3141\n",
      "Epoch 72/600\n",
      "117/117 [==============================] - 0s 4ms/step - loss: 0.3162 - val_loss: 0.3178\n",
      "Epoch 73/600\n",
      "117/117 [==============================] - 0s 4ms/step - loss: 0.3178 - val_loss: 0.3148\n",
      "Epoch 74/600\n",
      "117/117 [==============================] - 0s 4ms/step - loss: 0.3190 - val_loss: 0.3134\n",
      "Epoch 75/600\n",
      "117/117 [==============================] - 0s 4ms/step - loss: 0.3128 - val_loss: 0.3130\n",
      "Epoch 76/600\n",
      "117/117 [==============================] - 0s 4ms/step - loss: 0.3189 - val_loss: 0.3141\n",
      "Epoch 77/600\n",
      "117/117 [==============================] - 0s 4ms/step - loss: 0.3150 - val_loss: 0.3140\n",
      "Epoch 78/600\n",
      "117/117 [==============================] - 0s 4ms/step - loss: 0.3155 - val_loss: 0.3141\n",
      "Epoch 79/600\n",
      "117/117 [==============================] - 0s 4ms/step - loss: 0.3139 - val_loss: 0.3142\n",
      "Epoch 80/600\n",
      "117/117 [==============================] - 0s 4ms/step - loss: 0.3145 - val_loss: 0.3139\n",
      "Epoch 81/600\n"
     ]
    },
    {
     "name": "stdout",
     "output_type": "stream",
     "text": [
      "117/117 [==============================] - 0s 4ms/step - loss: 0.3136 - val_loss: 0.3123\n",
      "Epoch 82/600\n",
      "117/117 [==============================] - 0s 4ms/step - loss: 0.3132 - val_loss: 0.3128\n",
      "Epoch 83/600\n",
      "117/117 [==============================] - 0s 4ms/step - loss: 0.3134 - val_loss: 0.3112\n",
      "Epoch 84/600\n",
      "117/117 [==============================] - 0s 4ms/step - loss: 0.3144 - val_loss: 0.3114\n",
      "Epoch 85/600\n",
      "117/117 [==============================] - 0s 4ms/step - loss: 0.3145 - val_loss: 0.3100\n",
      "Epoch 86/600\n",
      "117/117 [==============================] - 0s 4ms/step - loss: 0.3127 - val_loss: 0.3110\n",
      "Epoch 87/600\n",
      "117/117 [==============================] - 0s 4ms/step - loss: 0.3119 - val_loss: 0.3084\n",
      "Epoch 88/600\n",
      "117/117 [==============================] - 0s 4ms/step - loss: 0.3116 - val_loss: 0.3094\n",
      "Epoch 89/600\n",
      "117/117 [==============================] - 0s 4ms/step - loss: 0.3131 - val_loss: 0.3095\n",
      "Epoch 90/600\n",
      "117/117 [==============================] - 0s 4ms/step - loss: 0.3118 - val_loss: 0.3101\n",
      "Epoch 91/600\n",
      "117/117 [==============================] - 0s 4ms/step - loss: 0.3121 - val_loss: 0.3087\n",
      "Epoch 92/600\n",
      "117/117 [==============================] - 0s 4ms/step - loss: 0.3108 - val_loss: 0.3087\n",
      "Epoch 93/600\n",
      "117/117 [==============================] - 1s 4ms/step - loss: 0.3110 - val_loss: 0.3098\n",
      "Epoch 94/600\n",
      "117/117 [==============================] - 1s 4ms/step - loss: 0.3102 - val_loss: 0.3088\n",
      "Epoch 95/600\n",
      "117/117 [==============================] - 1s 4ms/step - loss: 0.3130 - val_loss: 0.3092\n",
      "Epoch 96/600\n",
      "117/117 [==============================] - 0s 3ms/step - loss: 0.3140 - val_loss: 0.3088\n",
      "Epoch 97/600\n",
      "117/117 [==============================] - 0s 4ms/step - loss: 0.3100 - val_loss: 0.3092\n",
      "Epoch 98/600\n",
      "117/117 [==============================] - 0s 4ms/step - loss: 0.3103 - val_loss: 0.3089\n",
      "Epoch 99/600\n",
      "117/117 [==============================] - 0s 4ms/step - loss: 0.3108 - val_loss: 0.3085\n",
      "Epoch 100/600\n",
      "117/117 [==============================] - 0s 4ms/step - loss: 0.3103 - val_loss: 0.3098\n",
      "Epoch 101/600\n",
      "117/117 [==============================] - 0s 4ms/step - loss: 0.3085 - val_loss: 0.3106\n",
      "Epoch 102/600\n",
      "117/117 [==============================] - 0s 4ms/step - loss: 0.3082 - val_loss: 0.3095\n",
      "Epoch 103/600\n",
      "117/117 [==============================] - 0s 4ms/step - loss: 0.3083 - val_loss: 0.3099\n",
      "Epoch 104/600\n",
      "117/117 [==============================] - 0s 4ms/step - loss: 0.3072 - val_loss: 0.3071\n",
      "Epoch 105/600\n",
      "117/117 [==============================] - 0s 4ms/step - loss: 0.3075 - val_loss: 0.3114\n",
      "Epoch 106/600\n",
      "117/117 [==============================] - 0s 4ms/step - loss: 0.3064 - val_loss: 0.3091\n",
      "Epoch 107/600\n",
      "117/117 [==============================] - 0s 4ms/step - loss: 0.3081 - val_loss: 0.3090\n",
      "Epoch 108/600\n",
      "117/117 [==============================] - 0s 4ms/step - loss: 0.3076 - val_loss: 0.3094\n",
      "Epoch 109/600\n",
      "117/117 [==============================] - 0s 4ms/step - loss: 0.3074 - val_loss: 0.3081\n",
      "Epoch 110/600\n",
      "117/117 [==============================] - 0s 4ms/step - loss: 0.3055 - val_loss: 0.3069\n",
      "Epoch 111/600\n",
      "117/117 [==============================] - 0s 4ms/step - loss: 0.3088 - val_loss: 0.3087\n",
      "Epoch 112/600\n",
      "117/117 [==============================] - 0s 4ms/step - loss: 0.3076 - val_loss: 0.3074\n",
      "Epoch 113/600\n",
      "117/117 [==============================] - 0s 4ms/step - loss: 0.3059 - val_loss: 0.3090\n",
      "Epoch 114/600\n",
      "117/117 [==============================] - 0s 4ms/step - loss: 0.3056 - val_loss: 0.3064\n",
      "Epoch 115/600\n",
      "117/117 [==============================] - 0s 4ms/step - loss: 0.3073 - val_loss: 0.3062\n",
      "Epoch 116/600\n",
      "117/117 [==============================] - 0s 4ms/step - loss: 0.3047 - val_loss: 0.3052\n",
      "Epoch 117/600\n",
      "117/117 [==============================] - 0s 4ms/step - loss: 0.3045 - val_loss: 0.3067\n",
      "Epoch 118/600\n",
      "117/117 [==============================] - 0s 4ms/step - loss: 0.3067 - val_loss: 0.3061\n",
      "Epoch 119/600\n",
      "117/117 [==============================] - 0s 4ms/step - loss: 0.3043 - val_loss: 0.3079\n",
      "Epoch 120/600\n",
      "117/117 [==============================] - 0s 4ms/step - loss: 0.3053 - val_loss: 0.3055\n",
      "Epoch 121/600\n",
      "117/117 [==============================] - 0s 4ms/step - loss: 0.3037 - val_loss: 0.3067\n",
      "Epoch 122/600\n",
      "117/117 [==============================] - 0s 4ms/step - loss: 0.3041 - val_loss: 0.3077\n",
      "Epoch 123/600\n",
      "117/117 [==============================] - 0s 4ms/step - loss: 0.3025 - val_loss: 0.3036\n",
      "Epoch 124/600\n",
      "117/117 [==============================] - 0s 4ms/step - loss: 0.3018 - val_loss: 0.3058\n",
      "Epoch 125/600\n",
      "117/117 [==============================] - 0s 4ms/step - loss: 0.3046 - val_loss: 0.3047\n",
      "Epoch 126/600\n",
      "117/117 [==============================] - 0s 4ms/step - loss: 0.3041 - val_loss: 0.3061\n",
      "Epoch 127/600\n",
      "117/117 [==============================] - 0s 4ms/step - loss: 0.3033 - val_loss: 0.3056\n",
      "Epoch 128/600\n",
      "117/117 [==============================] - 0s 4ms/step - loss: 0.3027 - val_loss: 0.3053\n",
      "Epoch 129/600\n",
      "117/117 [==============================] - 1s 4ms/step - loss: 0.3042 - val_loss: 0.3046\n",
      "Epoch 130/600\n",
      "117/117 [==============================] - 1s 4ms/step - loss: 0.3037 - val_loss: 0.3075\n",
      "Epoch 131/600\n",
      "117/117 [==============================] - 0s 4ms/step - loss: 0.3030 - val_loss: 0.3030\n",
      "Epoch 132/600\n",
      "117/117 [==============================] - 0s 4ms/step - loss: 0.3046 - val_loss: 0.3052\n",
      "Epoch 133/600\n",
      "117/117 [==============================] - 0s 4ms/step - loss: 0.3041 - val_loss: 0.3051\n",
      "Epoch 134/600\n",
      "117/117 [==============================] - 0s 4ms/step - loss: 0.3031 - val_loss: 0.3059\n",
      "Epoch 135/600\n",
      "117/117 [==============================] - 0s 4ms/step - loss: 0.3045 - val_loss: 0.3052\n",
      "Epoch 136/600\n",
      "117/117 [==============================] - 0s 4ms/step - loss: 0.3030 - val_loss: 0.3079\n",
      "Epoch 137/600\n",
      "117/117 [==============================] - 0s 4ms/step - loss: 0.3049 - val_loss: 0.3031\n",
      "Epoch 138/600\n",
      "117/117 [==============================] - 0s 4ms/step - loss: 0.3002 - val_loss: 0.3020\n",
      "Epoch 139/600\n",
      "117/117 [==============================] - 0s 4ms/step - loss: 0.3054 - val_loss: 0.3028\n",
      "Epoch 140/600\n",
      "117/117 [==============================] - 0s 4ms/step - loss: 0.3047 - val_loss: 0.3056\n",
      "Epoch 141/600\n",
      "117/117 [==============================] - 0s 4ms/step - loss: 0.3025 - val_loss: 0.3042\n",
      "Epoch 142/600\n",
      "117/117 [==============================] - 0s 4ms/step - loss: 0.3006 - val_loss: 0.3035\n",
      "Epoch 143/600\n",
      "117/117 [==============================] - 0s 4ms/step - loss: 0.2992 - val_loss: 0.3024\n",
      "Epoch 144/600\n",
      "117/117 [==============================] - 0s 4ms/step - loss: 0.2997 - val_loss: 0.3038\n",
      "Epoch 145/600\n",
      "117/117 [==============================] - 0s 4ms/step - loss: 0.3024 - val_loss: 0.3047\n",
      "Epoch 146/600\n",
      "117/117 [==============================] - 0s 4ms/step - loss: 0.3026 - val_loss: 0.3025\n",
      "Epoch 147/600\n",
      "117/117 [==============================] - 0s 4ms/step - loss: 0.3005 - val_loss: 0.3020\n",
      "Epoch 148/600\n",
      "117/117 [==============================] - 0s 4ms/step - loss: 0.3015 - val_loss: 0.3015\n",
      "Epoch 149/600\n",
      "117/117 [==============================] - 0s 4ms/step - loss: 0.2990 - val_loss: 0.3012\n",
      "Epoch 150/600\n",
      "117/117 [==============================] - 0s 4ms/step - loss: 0.2988 - val_loss: 0.3015\n",
      "Epoch 151/600\n",
      "117/117 [==============================] - 0s 4ms/step - loss: 0.2996 - val_loss: 0.3018\n",
      "Epoch 152/600\n",
      "117/117 [==============================] - 0s 4ms/step - loss: 0.2972 - val_loss: 0.3014\n",
      "Epoch 153/600\n",
      "117/117 [==============================] - 0s 4ms/step - loss: 0.2991 - val_loss: 0.3007\n",
      "Epoch 154/600\n",
      "117/117 [==============================] - 0s 4ms/step - loss: 0.3008 - val_loss: 0.3003\n",
      "Epoch 155/600\n",
      "117/117 [==============================] - 0s 4ms/step - loss: 0.2985 - val_loss: 0.3009\n",
      "Epoch 156/600\n",
      "117/117 [==============================] - 0s 4ms/step - loss: 0.2991 - val_loss: 0.3028\n",
      "Epoch 157/600\n",
      "117/117 [==============================] - 0s 4ms/step - loss: 0.2993 - val_loss: 0.3047\n",
      "Epoch 158/600\n",
      "117/117 [==============================] - 0s 4ms/step - loss: 0.2986 - val_loss: 0.3021\n",
      "Epoch 159/600\n",
      "117/117 [==============================] - 0s 4ms/step - loss: 0.2998 - val_loss: 0.2980\n",
      "Epoch 160/600\n",
      "117/117 [==============================] - 0s 4ms/step - loss: 0.2958 - val_loss: 0.3027\n"
     ]
    },
    {
     "name": "stdout",
     "output_type": "stream",
     "text": [
      "Epoch 161/600\n",
      "117/117 [==============================] - 0s 4ms/step - loss: 0.2991 - val_loss: 0.2999\n",
      "Epoch 162/600\n",
      "117/117 [==============================] - 0s 4ms/step - loss: 0.2968 - val_loss: 0.3006\n",
      "Epoch 163/600\n",
      "117/117 [==============================] - 0s 4ms/step - loss: 0.2967 - val_loss: 0.3020\n",
      "Epoch 164/600\n",
      "117/117 [==============================] - 0s 4ms/step - loss: 0.2971 - val_loss: 0.2997\n",
      "Epoch 165/600\n",
      "117/117 [==============================] - 1s 4ms/step - loss: 0.2973 - val_loss: 0.3020\n",
      "Epoch 166/600\n",
      "117/117 [==============================] - 0s 4ms/step - loss: 0.2974 - val_loss: 0.3012\n",
      "Epoch 167/600\n",
      "117/117 [==============================] - 0s 4ms/step - loss: 0.2961 - val_loss: 0.3014\n",
      "Epoch 168/600\n",
      "117/117 [==============================] - 0s 4ms/step - loss: 0.2993 - val_loss: 0.2992\n",
      "Epoch 169/600\n",
      "117/117 [==============================] - 0s 4ms/step - loss: 0.3005 - val_loss: 0.2998\n",
      "Epoch 170/600\n",
      "117/117 [==============================] - 0s 4ms/step - loss: 0.2986 - val_loss: 0.3005\n",
      "Epoch 171/600\n",
      "117/117 [==============================] - 0s 4ms/step - loss: 0.2976 - val_loss: 0.2996\n",
      "Epoch 172/600\n",
      "117/117 [==============================] - 0s 4ms/step - loss: 0.2988 - val_loss: 0.3014\n",
      "Epoch 173/600\n",
      "117/117 [==============================] - 0s 4ms/step - loss: 0.2979 - val_loss: 0.2980\n",
      "Epoch 174/600\n",
      "117/117 [==============================] - 0s 4ms/step - loss: 0.3018 - val_loss: 0.2997\n",
      "Epoch 175/600\n",
      "117/117 [==============================] - 0s 4ms/step - loss: 0.2981 - val_loss: 0.3029\n",
      "Epoch 176/600\n",
      "117/117 [==============================] - 0s 4ms/step - loss: 0.2977 - val_loss: 0.3013\n",
      "Epoch 177/600\n",
      "117/117 [==============================] - 0s 4ms/step - loss: 0.2976 - val_loss: 0.3026\n",
      "Epoch 178/600\n",
      "117/117 [==============================] - 0s 4ms/step - loss: 0.2965 - val_loss: 0.2990\n",
      "Epoch 179/600\n",
      "117/117 [==============================] - 0s 4ms/step - loss: 0.2955 - val_loss: 0.3004\n",
      "Epoch 179: early stopping\n"
     ]
    },
    {
     "data": {
      "text/plain": [
       "<keras.callbacks.History at 0x2ad17d4b8b0>"
      ]
     },
     "execution_count": 80,
     "metadata": {},
     "output_type": "execute_result"
    }
   ],
   "source": [
    "model.fit(x=X_train, \n",
    "          y=y_train, \n",
    "          epochs=600,\n",
    "          batch_size=250,\n",
    "          validation_data=(X_test, y_test),callbacks=[early_stop] \n",
    "          )"
   ]
  },
  {
   "cell_type": "code",
   "execution_count": 81,
   "id": "b2f92d8f",
   "metadata": {},
   "outputs": [],
   "source": [
    "losses = pd.DataFrame(model.history.history)"
   ]
  },
  {
   "cell_type": "code",
   "execution_count": 82,
   "id": "8b3bc184",
   "metadata": {},
   "outputs": [
    {
     "data": {
      "text/plain": [
       "<AxesSubplot:>"
      ]
     },
     "execution_count": 82,
     "metadata": {},
     "output_type": "execute_result"
    },
    {
     "data": {
      "image/png": "[encoded data removed]",
      "text/plain": [
       "<Figure size 432x288 with 1 Axes>"
      ]
     },
     "metadata": {},
     "output_type": "display_data"
    }
   ],
   "source": [
    "losses[['loss','val_loss']].plot()"
   ]
  },
  {
   "cell_type": "code",
   "execution_count": 83,
   "id": "dc3936a0",
   "metadata": {},
   "outputs": [
    {
     "name": "stdout",
     "output_type": "stream",
     "text": [
      "227/227 [==============================] - 1s 2ms/step\n"
     ]
    }
   ],
   "source": [
    "predictions =  (model.predict(X_test)>0.4).astype('int32')"
   ]
  },
  {
   "cell_type": "markdown",
   "id": "29e53605",
   "metadata": {},
   "source": [
    "# Evaluating"
   ]
  },
  {
   "cell_type": "code",
   "execution_count": 84,
   "id": "d3ec0716",
   "metadata": {},
   "outputs": [],
   "source": [
    "from sklearn.metrics import classification_report,confusion_matrix"
   ]
  },
  {
   "cell_type": "code",
   "execution_count": 85,
   "id": "015f14f9",
   "metadata": {},
   "outputs": [
    {
     "name": "stdout",
     "output_type": "stream",
     "text": [
      "              precision    recall  f1-score   support\n",
      "\n",
      "           0       0.86      0.71      0.78      2364\n",
      "           1       0.87      0.94      0.91      4891\n",
      "\n",
      "    accuracy                           0.87      7255\n",
      "   macro avg       0.86      0.83      0.84      7255\n",
      "weighted avg       0.87      0.87      0.86      7255\n",
      "\n"
     ]
    }
   ],
   "source": [
    "print(classification_report(y_test,predictions))"
   ]
  },
  {
   "cell_type": "code",
   "execution_count": 86,
   "id": "7fbc259c",
   "metadata": {},
   "outputs": [
    {
     "data": {
      "text/plain": [
       "array([[1682,  682],\n",
       "       [ 283, 4608]], dtype=int64)"
      ]
     },
     "execution_count": 86,
     "metadata": {},
     "output_type": "execute_result"
    }
   ],
   "source": [
    "confusion_matrix(y_test,predictions)"
   ]
  },
  {
   "cell_type": "markdown",
   "id": "d52a4ee3",
   "metadata": {},
   "source": [
    "# Using Logistic regression"
   ]
  },
  {
   "cell_type": "code",
   "execution_count": 87,
   "id": "0d00874a",
   "metadata": {},
   "outputs": [],
   "source": [
    "X = df.drop('booking_status',axis=1)\n",
    "Y = df['booking_status']"
   ]
  },
  {
   "cell_type": "code",
   "execution_count": 88,
   "id": "2f70f8f2",
   "metadata": {},
   "outputs": [],
   "source": [
    "X_train, X_test, y_train, y_test = train_test_split(X, Y, test_size=0.20, random_state=101)"
   ]
  },
  {
   "cell_type": "code",
   "execution_count": 89,
   "id": "75245ed9",
   "metadata": {},
   "outputs": [],
   "source": [
    "scaler = MinMaxScaler()"
   ]
  },
  {
   "cell_type": "code",
   "execution_count": 90,
   "id": "be2b1310",
   "metadata": {},
   "outputs": [],
   "source": [
    "X_train = scaler.fit_transform(X_train)"
   ]
  },
  {
   "cell_type": "code",
   "execution_count": 91,
   "id": "c9528310",
   "metadata": {},
   "outputs": [],
   "source": [
    "X_test = scaler.transform(X_test)"
   ]
  },
  {
   "cell_type": "code",
   "execution_count": 92,
   "id": "bd327a50",
   "metadata": {},
   "outputs": [],
   "source": [
    "from sklearn.linear_model import LogisticRegression"
   ]
  },
  {
   "cell_type": "code",
   "execution_count": 93,
   "id": "78a330eb",
   "metadata": {},
   "outputs": [
    {
     "name": "stderr",
     "output_type": "stream",
     "text": [
      "C:\\Users\\EBUKA ONUOHA\\anaconda3\\lib\\site-packages\\sklearn\\linear_model\\_logistic.py:763: ConvergenceWarning: lbfgs failed to converge (status=1):\n",
      "STOP: TOTAL NO. of ITERATIONS REACHED LIMIT.\n",
      "\n",
      "Increase the number of iterations (max_iter) or scale the data as shown in:\n",
      "    https://scikit-learn.org/stable/modules/preprocessing.html\n",
      "Please also refer to the documentation for alternative solver options:\n",
      "    https://scikit-learn.org/stable/modules/linear_model.html#logistic-regression\n",
      "  n_iter_i = _check_optimize_result(\n"
     ]
    },
    {
     "data": {
      "text/plain": [
       "LogisticRegression()"
      ]
     },
     "execution_count": 93,
     "metadata": {},
     "output_type": "execute_result"
    }
   ],
   "source": [
    "logmodel = LogisticRegression()\n",
    "logmodel.fit(X_train,y_train)"
   ]
  },
  {
   "cell_type": "code",
   "execution_count": 94,
   "id": "4123d1fb",
   "metadata": {},
   "outputs": [
    {
     "data": {
      "text/plain": [
       "array([1, 1, 1, ..., 1, 0, 1], dtype=int64)"
      ]
     },
     "execution_count": 94,
     "metadata": {},
     "output_type": "execute_result"
    }
   ],
   "source": [
    "predictions = logmodel.predict(X_test)\n",
    "predictions"
   ]
  },
  {
   "cell_type": "code",
   "execution_count": 95,
   "id": "4c20e62f",
   "metadata": {},
   "outputs": [
    {
     "name": "stdout",
     "output_type": "stream",
     "text": [
      "              precision    recall  f1-score   support\n",
      "\n",
      "           0       0.74      0.64      0.69      2364\n",
      "           1       0.84      0.89      0.86      4891\n",
      "\n",
      "    accuracy                           0.81      7255\n",
      "   macro avg       0.79      0.77      0.78      7255\n",
      "weighted avg       0.81      0.81      0.81      7255\n",
      "\n"
     ]
    }
   ],
   "source": [
    "print(classification_report(y_test,predictions))"
   ]
  },
  {
   "cell_type": "code",
   "execution_count": 96,
   "id": "ea173e08",
   "metadata": {},
   "outputs": [
    {
     "data": {
      "text/plain": [
       "array([[1522,  842],\n",
       "       [ 534, 4357]], dtype=int64)"
      ]
     },
     "execution_count": 96,
     "metadata": {},
     "output_type": "execute_result"
    }
   ],
   "source": [
    "confusion_matrix(y_test,predictions)"
   ]
  },
  {
   "cell_type": "code",
   "execution_count": 97,
   "id": "6a878474",
   "metadata": {},
   "outputs": [],
   "source": [
    "#Logistic Regression did much poorly than neural network"
   ]
  },
  {
   "cell_type": "markdown",
   "id": "77e09cee",
   "metadata": {},
   "source": [
    "# K Nearest Neighbours"
   ]
  },
  {
   "cell_type": "code",
   "execution_count": 98,
   "id": "8d91acae",
   "metadata": {},
   "outputs": [],
   "source": [
    "from sklearn.neighbors import KNeighborsClassifier"
   ]
  },
  {
   "cell_type": "code",
   "execution_count": 99,
   "id": "d4597311",
   "metadata": {},
   "outputs": [],
   "source": [
    "knn = KNeighborsClassifier(n_neighbors=10)"
   ]
  },
  {
   "cell_type": "code",
   "execution_count": 100,
   "id": "bf57e441",
   "metadata": {},
   "outputs": [
    {
     "data": {
      "text/plain": [
       "KNeighborsClassifier(n_neighbors=10)"
      ]
     },
     "execution_count": 100,
     "metadata": {},
     "output_type": "execute_result"
    }
   ],
   "source": [
    "knn.fit(X_train,y_train)"
   ]
  },
  {
   "cell_type": "code",
   "execution_count": 101,
   "id": "4cf3f2dc",
   "metadata": {},
   "outputs": [],
   "source": [
    "pred = knn.predict(X_test)"
   ]
  },
  {
   "cell_type": "code",
   "execution_count": 102,
   "id": "9469bc61",
   "metadata": {},
   "outputs": [
    {
     "name": "stdout",
     "output_type": "stream",
     "text": [
      "              precision    recall  f1-score   support\n",
      "\n",
      "           0       0.77      0.78      0.77      2364\n",
      "           1       0.89      0.89      0.89      4891\n",
      "\n",
      "    accuracy                           0.85      7255\n",
      "   macro avg       0.83      0.83      0.83      7255\n",
      "weighted avg       0.85      0.85      0.85      7255\n",
      "\n"
     ]
    }
   ],
   "source": [
    "print(classification_report(y_test,pred))"
   ]
  },
  {
   "cell_type": "code",
   "execution_count": 103,
   "id": "99585781",
   "metadata": {},
   "outputs": [
    {
     "name": "stdout",
     "output_type": "stream",
     "text": [
      "[[1833  531]\n",
      " [ 548 4343]]\n"
     ]
    }
   ],
   "source": [
    "print(confusion_matrix(y_test,pred))"
   ]
  },
  {
   "cell_type": "markdown",
   "id": "a57e9adc",
   "metadata": {},
   "source": [
    "# Decision trees and Random forests"
   ]
  },
  {
   "cell_type": "code",
   "execution_count": 104,
   "id": "eda6e574",
   "metadata": {},
   "outputs": [],
   "source": [
    "from sklearn.tree import DecisionTreeClassifier"
   ]
  },
  {
   "cell_type": "code",
   "execution_count": 105,
   "id": "e45544f5",
   "metadata": {},
   "outputs": [],
   "source": [
    "dtree = DecisionTreeClassifier()"
   ]
  },
  {
   "cell_type": "code",
   "execution_count": 106,
   "id": "c1496e25",
   "metadata": {},
   "outputs": [
    {
     "data": {
      "text/plain": [
       "DecisionTreeClassifier()"
      ]
     },
     "execution_count": 106,
     "metadata": {},
     "output_type": "execute_result"
    }
   ],
   "source": [
    "dtree.fit(X_train,y_train)"
   ]
  },
  {
   "cell_type": "code",
   "execution_count": 107,
   "id": "5d6c419b",
   "metadata": {},
   "outputs": [],
   "source": [
    "predictions = dtree.predict(X_test)"
   ]
  },
  {
   "cell_type": "code",
   "execution_count": 108,
   "id": "e31f160b",
   "metadata": {},
   "outputs": [
    {
     "name": "stdout",
     "output_type": "stream",
     "text": [
      "              precision    recall  f1-score   support\n",
      "\n",
      "           0       0.79      0.81      0.80      2364\n",
      "           1       0.91      0.90      0.90      4891\n",
      "\n",
      "    accuracy                           0.87      7255\n",
      "   macro avg       0.85      0.85      0.85      7255\n",
      "weighted avg       0.87      0.87      0.87      7255\n",
      "\n"
     ]
    }
   ],
   "source": [
    "print(classification_report(y_test,predictions))"
   ]
  },
  {
   "cell_type": "code",
   "execution_count": 109,
   "id": "ab368f00",
   "metadata": {},
   "outputs": [
    {
     "name": "stdout",
     "output_type": "stream",
     "text": [
      "[[1915  449]\n",
      " [ 511 4380]]\n"
     ]
    }
   ],
   "source": [
    "print(confusion_matrix(y_test,predictions))"
   ]
  },
  {
   "cell_type": "code",
   "execution_count": 110,
   "id": "37053407",
   "metadata": {},
   "outputs": [
    {
     "data": {
      "text/plain": [
       "RandomForestClassifier(n_estimators=600)"
      ]
     },
     "execution_count": 110,
     "metadata": {},
     "output_type": "execute_result"
    }
   ],
   "source": [
    "from sklearn.ensemble import RandomForestClassifier\n",
    "rfc = RandomForestClassifier(n_estimators=600)\n",
    "rfc.fit(X_train, y_train)"
   ]
  },
  {
   "cell_type": "code",
   "execution_count": 111,
   "id": "6b4c5064",
   "metadata": {},
   "outputs": [],
   "source": [
    "rfc_pred = rfc.predict(X_test)"
   ]
  },
  {
   "cell_type": "code",
   "execution_count": 112,
   "id": "855a2b3c",
   "metadata": {},
   "outputs": [
    {
     "name": "stdout",
     "output_type": "stream",
     "text": [
      "              precision    recall  f1-score   support\n",
      "\n",
      "           0       0.87      0.82      0.85      2364\n",
      "           1       0.92      0.94      0.93      4891\n",
      "\n",
      "    accuracy                           0.90      7255\n",
      "   macro avg       0.89      0.88      0.89      7255\n",
      "weighted avg       0.90      0.90      0.90      7255\n",
      "\n"
     ]
    }
   ],
   "source": [
    "print(classification_report(y_test,rfc_pred))"
   ]
  },
  {
   "cell_type": "code",
   "execution_count": 113,
   "id": "fa15d89b",
   "metadata": {},
   "outputs": [
    {
     "name": "stdout",
     "output_type": "stream",
     "text": [
      "[[1915  449]\n",
      " [ 511 4380]]\n"
     ]
    }
   ],
   "source": [
    "print(confusion_matrix(y_test,predictions))"
   ]
  },
  {
   "cell_type": "markdown",
   "id": "12b05e20",
   "metadata": {},
   "source": [
    "# SVM"
   ]
  },
  {
   "cell_type": "code",
   "execution_count": 114,
   "id": "062f99e0",
   "metadata": {},
   "outputs": [],
   "source": [
    "from sklearn.svm import SVC"
   ]
  },
  {
   "cell_type": "code",
   "execution_count": 115,
   "id": "600cd02b",
   "metadata": {},
   "outputs": [],
   "source": [
    "model = SVC()"
   ]
  },
  {
   "cell_type": "code",
   "execution_count": 116,
   "id": "721ac681",
   "metadata": {},
   "outputs": [
    {
     "data": {
      "text/plain": [
       "SVC()"
      ]
     },
     "execution_count": 116,
     "metadata": {},
     "output_type": "execute_result"
    }
   ],
   "source": [
    "model.fit(X_train,y_train)"
   ]
  },
  {
   "cell_type": "code",
   "execution_count": 117,
   "id": "ba6fbb62",
   "metadata": {},
   "outputs": [],
   "source": [
    "predictions = model.predict(X_test)"
   ]
  },
  {
   "cell_type": "code",
   "execution_count": 118,
   "id": "786cf0d6",
   "metadata": {},
   "outputs": [
    {
     "name": "stdout",
     "output_type": "stream",
     "text": [
      "[[1637  727]\n",
      " [ 493 4398]]\n"
     ]
    }
   ],
   "source": [
    "print(confusion_matrix(y_test,predictions))"
   ]
  },
  {
   "cell_type": "code",
   "execution_count": 119,
   "id": "8e874bd4",
   "metadata": {},
   "outputs": [
    {
     "name": "stdout",
     "output_type": "stream",
     "text": [
      "              precision    recall  f1-score   support\n",
      "\n",
      "           0       0.77      0.69      0.73      2364\n",
      "           1       0.86      0.90      0.88      4891\n",
      "\n",
      "    accuracy                           0.83      7255\n",
      "   macro avg       0.81      0.80      0.80      7255\n",
      "weighted avg       0.83      0.83      0.83      7255\n",
      "\n"
     ]
    }
   ],
   "source": [
    "print(classification_report(y_test,predictions))"
   ]
  },
  {
   "cell_type": "code",
   "execution_count": null,
   "id": "c01d0c53",
   "metadata": {},
   "outputs": [],
   "source": []
  },
  {
   "cell_type": "code",
   "execution_count": null,
   "id": "caa4f623",
   "metadata": {},
   "outputs": [],
   "source": []
  },
  {
   "cell_type": "code",
   "execution_count": null,
   "id": "3c13458f",
   "metadata": {},
   "outputs": [],
   "source": []
  },
  {
   "cell_type": "code",
   "execution_count": null,
   "id": "fba1a146",
   "metadata": {},
   "outputs": [],
   "source": []
  },
  {
   "cell_type": "code",
   "execution_count": null,
   "id": "f16ddfd0",
   "metadata": {},
   "outputs": [],
   "source": []
  },
  {
   "cell_type": "code",
   "execution_count": null,
   "id": "9a6766c9",
   "metadata": {},
   "outputs": [],
   "source": []
  },
  {
   "cell_type": "code",
   "execution_count": null,
   "id": "28b6f3a8",
   "metadata": {},
   "outputs": [],
   "source": []
  },
  {
   "cell_type": "markdown",
   "id": "e0699f4e",
   "metadata": {},
   "source": [
    "From the above algorithms and their evaluation, the following can be deduced:\n",
    "-All the models did well except maybe logistic regression\n",
    "-There really is'nt a 'best algorithm' out there, there's only an algorithm that would be best suited to a particular problem\n",
    "\n",
    "In this case, neural network, decision trees and random forest were the best performers and were very close.But to choose which to go for, one would have to understand what the employer is really looking for. As you can see, neural networks did a better job predicting those that honored their booking, where as decision trees and random forests did a better job predicting those that cancelled their booking. So if the employer prioritises identifying those that would honor their booking, neural networks would be the prefered model to use and vice versa."
   ]
  },
  {
   "cell_type": "code",
   "execution_count": null,
   "id": "374296db",
   "metadata": {},
   "outputs": [],
   "source": []
  }
 ],
 "metadata": {
  "kernelspec": {
   "display_name": "Python 3 (ipykernel)",
   "language": "python",
   "name": "python3"
  },
  "language_info": {
   "codemirror_mode": {
    "name": "ipython",
    "version": 3
   },
   "file_extension": ".py",
   "mimetype": "text/x-python",
   "name": "python",
   "nbconvert_exporter": "python",
   "pygments_lexer": "ipython3",
   "version": "3.9.7"
  }
 },
 "nbformat": 4,
 "nbformat_minor": 5
}
